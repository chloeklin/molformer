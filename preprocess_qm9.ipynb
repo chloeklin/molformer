{
 "cells": [
  {
   "cell_type": "code",
   "execution_count": 2,
   "metadata": {},
   "outputs": [
    {
     "name": "stdout",
     "output_type": "stream",
     "text": [
      "3054\n"
     ]
    }
   ],
   "source": [
    "import pandas as pd\n",
    "import re\n",
    "\n",
    "# Define file path\n",
    "file_path = \"data/uncharacterized.txt\"  # Replace with your actual file path\n",
    "\n",
    "# Read the file line by line and extract indices\n",
    "indices = []\n",
    "\n",
    "with open(file_path, \"r\") as file:\n",
    "    for line in file:\n",
    "        # Use regex to match the index (first numeric value in each row)\n",
    "        match = re.match(r\"\\s*(\\d+)\", line)\n",
    "        if match:\n",
    "            indices.append(int(match.group(1))-1)  # Convert to integer\n",
    "\n",
    "\n",
    "# Display extracted indices\n",
    "print(len(indices))"
   ]
  },
  {
   "cell_type": "code",
   "execution_count": 3,
   "metadata": {},
   "outputs": [
    {
     "name": "stdout",
     "output_type": "stream",
     "text": [
      "            mol_id               smiles          A           B           C  \\\n",
      "0            gdb_1                    C  157.71180  157.709970  157.706990   \n",
      "1            gdb_2                    N  293.60975  293.541110  191.393970   \n",
      "2            gdb_3                    O  799.58812  437.903860  282.945450   \n",
      "3            gdb_4                  C#C    0.00000   35.610036   35.610036   \n",
      "4            gdb_5                  C#N    0.00000   44.593883   44.593883   \n",
      "...            ...                  ...        ...         ...         ...   \n",
      "130826  gdb_133881  C1C2C3C4C5OC14C5N23    3.59483    2.198990    1.904230   \n",
      "130827  gdb_133882  C1N2C3C2C2C4OC12C34    3.65648    2.142370    1.904390   \n",
      "130828  gdb_133883  C1N2C3C4C5C2C13CN45    3.67118    2.143140    1.895010   \n",
      "130829  gdb_133884  C1N2C3C4C5CC13C2C45    3.52845    2.151310    1.865820   \n",
      "130830  gdb_133885  C1N2C3C4C5OC13C2C45    3.64015    2.217640    1.937930   \n",
      "\n",
      "            mu  alpha    homo    lumo     gap  ...      zpve          u0  \\\n",
      "0       0.0000  13.21 -0.3877  0.1171  0.5048  ...  0.044749  -40.478930   \n",
      "1       1.6256   9.46 -0.2570  0.0829  0.3399  ...  0.034358  -56.525887   \n",
      "2       1.8511   6.31 -0.2928  0.0687  0.3615  ...  0.021375  -76.404702   \n",
      "3       0.0000  16.28 -0.2845  0.0506  0.3351  ...  0.026841  -77.308427   \n",
      "4       2.8937  12.99 -0.3604  0.0191  0.3796  ...  0.016601  -93.411888   \n",
      "...        ...    ...     ...     ...     ...  ...       ...         ...   \n",
      "130826  1.6637  69.37 -0.2254  0.0588  0.2842  ...  0.127406 -400.633868   \n",
      "130827  1.2976  69.52 -0.2393  0.0608  0.3002  ...  0.127495 -400.629713   \n",
      "130828  1.2480  73.60 -0.2233  0.0720  0.2953  ...  0.140458 -380.753918   \n",
      "130829  1.9576  77.40 -0.2122  0.0881  0.3003  ...  0.152222 -364.720374   \n",
      "130830  0.8626  69.48 -0.2316  0.0742  0.3058  ...  0.127862 -400.633052   \n",
      "\n",
      "              u298        h298        g298      cv      u0_atom    u298_atom  \\\n",
      "0       -40.476062  -40.475117  -40.498597   6.469  -395.999595  -398.643290   \n",
      "1       -56.523026  -56.522082  -56.544961   6.316  -276.861363  -278.620271   \n",
      "2       -76.401867  -76.400922  -76.422349   6.002  -213.087624  -213.974294   \n",
      "3       -77.305527  -77.304583  -77.327429   8.574  -385.501997  -387.237686   \n",
      "4       -93.409370  -93.408425  -93.431246   6.278  -301.820534  -302.906752   \n",
      "...            ...         ...         ...     ...          ...          ...   \n",
      "130826 -400.628599 -400.627654 -400.663098  23.658 -1603.983913 -1614.898804   \n",
      "130827 -400.624444 -400.623500 -400.658942  23.697 -1601.376613 -1612.291504   \n",
      "130828 -380.748619 -380.747675 -380.783148  23.972 -1667.045429 -1678.830048   \n",
      "130829 -364.714974 -364.714030 -364.749650  24.796 -1794.600439 -1807.210860   \n",
      "130830 -400.627892 -400.626948 -400.662186  23.434 -1603.471865 -1614.455155   \n",
      "\n",
      "          h298_atom    g298_atom  \n",
      "0       -401.014647  -372.471772  \n",
      "1       -280.399259  -259.338802  \n",
      "2       -215.159658  -201.407171  \n",
      "3       -389.016047  -365.800724  \n",
      "4       -304.091489  -288.720028  \n",
      "...             ...          ...  \n",
      "130826 -1623.788097 -1492.819438  \n",
      "130827 -1621.181424 -1490.211511  \n",
      "130828 -1688.312964 -1549.143391  \n",
      "130829 -1817.286772 -1670.349892  \n",
      "130830 -1623.345075 -1492.247150  \n",
      "\n",
      "[130831 rows x 21 columns]\n"
     ]
    }
   ],
   "source": [
    "import pandas as pd\n",
    "\n",
    "df = pd.read_csv('data/qm9.csv')\n",
    "\n",
    "# Drop the specified indices\n",
    "df_filtered = df.drop(indices, axis=0)\n",
    "\n",
    "# Reset index (optional)\n",
    "df_filtered = df_filtered.reset_index(drop=True)\n",
    "\n",
    "# Display the modified DataFrame\n",
    "print(df_filtered)\n"
   ]
  },
  {
   "cell_type": "code",
   "execution_count": 4,
   "metadata": {},
   "outputs": [
    {
     "name": "stdout",
     "output_type": "stream",
     "text": [
      "Files saved successfully: train.csv, val.csv, test.csv\n"
     ]
    }
   ],
   "source": [
    "\n",
    "import numpy as np\n",
    "import pandas as pd\n",
    "\n",
    "# Create a random permutation of indices\n",
    "random_state = np.random.RandomState(seed=42)\n",
    "perm = random_state.permutation(np.arange(130831))\n",
    "\n",
    "# Define the splits\n",
    "train_idx, val_idx, test_idx = perm[:110000], perm[110000:120000], perm[120000:]\n",
    "\n",
    "# Split the DataFrame\n",
    "df_train = df_filtered.iloc[train_idx]\n",
    "df_val = df_filtered.iloc[val_idx]\n",
    "df_test = df_filtered.iloc[test_idx]\n",
    "\n",
    "# Save each split as a CSV file\n",
    "df_train.to_csv(\"data/qm9_train.csv\", index=False)\n",
    "df_val.to_csv(\"data/qm9_val.csv\", index=False)\n",
    "df_test.to_csv(\"data/qm9_test.csv\", index=False)\n",
    "\n",
    "# Print confirmation\n",
    "print(\"Files saved successfully: train.csv, val.csv, test.csv\")\n"
   ]
  },
  {
   "cell_type": "code",
   "execution_count": null,
   "metadata": {},
   "outputs": [],
   "source": []
  }
 ],
 "metadata": {
  "kernelspec": {
   "display_name": "Python 3",
   "language": "python",
   "name": "python3"
  },
  "language_info": {
   "codemirror_mode": {
    "name": "ipython",
    "version": 3
   },
   "file_extension": ".py",
   "mimetype": "text/x-python",
   "name": "python",
   "nbconvert_exporter": "python",
   "pygments_lexer": "ipython3",
   "version": "3.10.4"
  }
 },
 "nbformat": 4,
 "nbformat_minor": 2
}
